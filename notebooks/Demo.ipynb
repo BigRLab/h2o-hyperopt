{
 "cells": [
  {
   "cell_type": "code",
   "execution_count": 1,
   "metadata": {
    "collapsed": false,
    "slideshow": {
     "slide_type": "slide"
    }
   },
   "outputs": [
    {
     "name": "stdout",
     "output_type": "stream",
     "text": [
      "\n",
      "\n",
      "No instance found at ip and port: localhost:54321. Trying to start local jar...\n",
      "\n",
      "\n",
      "JVM stdout: /var/folders/yf/_5_lv5n50rj5ftz_znrxstp80000gn/T/tmpwp7QJ5/h2o_abhishek_started_from_python.out\n",
      "JVM stderr: /var/folders/yf/_5_lv5n50rj5ftz_znrxstp80000gn/T/tmpBLHUDT/h2o_abhishek_started_from_python.err\n",
      "Using ice_root: /var/folders/yf/_5_lv5n50rj5ftz_znrxstp80000gn/T/tmp_MnExr\n",
      "\n",
      "\n",
      "Java Version: java version \"1.8.0_25\"\n",
      "Java(TM) SE Runtime Environment (build 1.8.0_25-b17)\n",
      "Java HotSpot(TM) 64-Bit Server VM (build 25.25-b02, mixed mode)\n",
      "\n",
      "\n",
      "Starting H2O JVM and connecting: ............................ Connection successful!\n"
     ]
    },
    {
     "data": {
      "text/html": [
       "<div style=\"overflow:auto\"><table style=\"width:50%\"><tr><td>H2O cluster uptime: </td>\n",
       "<td>3 seconds 587 milliseconds </td></tr>\n",
       "<tr><td>H2O cluster version: </td>\n",
       "<td>3.8.3.3</td></tr>\n",
       "<tr><td>H2O cluster name: </td>\n",
       "<td>H2O_started_from_python_abhishek_rzy918</td></tr>\n",
       "<tr><td>H2O cluster total nodes: </td>\n",
       "<td>1</td></tr>\n",
       "<tr><td>H2O cluster total free memory: </td>\n",
       "<td>1.78 GB</td></tr>\n",
       "<tr><td>H2O cluster total cores: </td>\n",
       "<td>4</td></tr>\n",
       "<tr><td>H2O cluster allowed cores: </td>\n",
       "<td>4</td></tr>\n",
       "<tr><td>H2O cluster healthy: </td>\n",
       "<td>True</td></tr>\n",
       "<tr><td>H2O Connection ip: </td>\n",
       "<td>127.0.0.1</td></tr>\n",
       "<tr><td>H2O Connection port: </td>\n",
       "<td>54321</td></tr>\n",
       "<tr><td>H2O Connection proxy: </td>\n",
       "<td>None</td></tr>\n",
       "<tr><td>Python Version: </td>\n",
       "<td>2.7.12</td></tr></table></div>"
      ],
      "text/plain": [
       "------------------------------  ---------------------------------------\n",
       "H2O cluster uptime:             3 seconds 587 milliseconds\n",
       "H2O cluster version:            3.8.3.3\n",
       "H2O cluster name:               H2O_started_from_python_abhishek_rzy918\n",
       "H2O cluster total nodes:        1\n",
       "H2O cluster total free memory:  1.78 GB\n",
       "H2O cluster total cores:        4\n",
       "H2O cluster allowed cores:      4\n",
       "H2O cluster healthy:            True\n",
       "H2O Connection ip:              127.0.0.1\n",
       "H2O Connection port:            54321\n",
       "H2O Connection proxy:\n",
       "Python Version:                 2.7.12\n",
       "------------------------------  ---------------------------------------"
      ]
     },
     "metadata": {},
     "output_type": "display_data"
    }
   ],
   "source": [
    "import h2o\n",
    "import h2ohyperopt\n",
    "h2o.init()"
   ]
  },
  {
   "cell_type": "markdown",
   "metadata": {
    "slideshow": {
     "slide_type": "slide"
    }
   },
   "source": [
    "### Data Processing\n",
    "The test dataset used for demonstrating the capabilities of H2OHyperopt is the titanic dataset. The function ```data()``` is used to preprocess the dataset."
   ]
  },
  {
   "cell_type": "code",
   "execution_count": 2,
   "metadata": {
    "collapsed": true,
    "slideshow": {
     "slide_type": "subslide"
    }
   },
   "outputs": [],
   "source": [
    "def data():\n",
    "    \"\"\"\n",
    "    Function to process the example titanic dataset.\n",
    "    Train-Valid-Test split is 60%, 20% and 20% respectively.\n",
    "    Output\n",
    "    ---------------------\n",
    "    trainFr: Training H2OFrame.\n",
    "    testFr: Test H2OFrame.\n",
    "    validFr: Validation H2OFrame.\n",
    "    predictors: List of predictor columns for the Training frame.\n",
    "    response: String defining the response column for Training frame.\n",
    "    \"\"\"\n",
    "    titanic_df = h2o.import_file(path=\"https://s3.amazonaws.com/h2o-public-test-data/smalldata/gbm_test/titanic.csv\")\n",
    "\n",
    "    # Basic preprocessing\n",
    "    # columns_to_be_used - List of columns which are used in the training/test\n",
    "    # data\n",
    "    # columns_to_factorize - List of columns with categorical variables\n",
    "    columns_to_be_used = ['pclass', 'age', 'sex', 'sibsp', 'parch', 'ticket',\n",
    "                          'embarked', 'fare', 'survived']\n",
    "    columns_to_factorize = ['pclass', 'sex', 'sibsp', 'embarked', 'survived']\n",
    "    # Factorizing the columns in the columns_to_factorize list\n",
    "    for col in columns_to_factorize:\n",
    "        titanic_df[col] = titanic_df[col].asfactor()\n",
    "    # Selecting only the columns we need\n",
    "    titanic_frame = titanic_df[columns_to_be_used]\n",
    "    trainFr, testFr, validFr = titanic_frame.split_frame([0.6, 0.2],\n",
    "                                                         seed=1234)\n",
    "    predictors = trainFr.names[:]\n",
    "    # Removing the response column from the list of predictors\n",
    "    predictors.remove('survived')\n",
    "    response = 'survived'\n",
    "    return trainFr, testFr, validFr, predictors, response"
   ]
  },
  {
   "cell_type": "code",
   "execution_count": 3,
   "metadata": {
    "collapsed": false,
    "slideshow": {
     "slide_type": "subslide"
    }
   },
   "outputs": [
    {
     "name": "stdout",
     "output_type": "stream",
     "text": [
      "\n",
      "Parse Progress: [##################################################] 100%\n"
     ]
    }
   ],
   "source": [
    "trainFr, testFr, validFr, predictors, response = data()"
   ]
  },
  {
   "cell_type": "markdown",
   "metadata": {
    "slideshow": {
     "slide_type": "slide"
    }
   },
   "source": [
    "### Mutiple Model Type Based Optimization\n",
    "Let us demonstrate the ModelDocker. Since the problem is a binary classification problem, we specify the metric to AUC. Docking three types of models - GBM's, GLM's and DLE's,"
   ]
  },
  {
   "cell_type": "code",
   "execution_count": 4,
   "metadata": {
    "collapsed": true,
    "slideshow": {
     "slide_type": "fragment"
    }
   },
   "outputs": [],
   "source": [
    "model_gbm = h2ohyperopt.GBMOptimizer(metric='auc')\n",
    "# To use the default search space\n",
    "# model_gbm.select_optimization_parameters(\"Default\")\n",
    "# To use a combination of Default parameters and the customized parameters.\n",
    "model_gbm.select_optimization_parameters({'col_sample_rate': 'Default',\n",
    "                                          'ntrees': 200,\n",
    "                                          'learn_rate': ('uniform',(0.05, 0.2)),\n",
    "                                          'nfolds': 7})"
   ]
  },
  {
   "cell_type": "code",
   "execution_count": null,
   "metadata": {
    "collapsed": true
   },
   "outputs": [],
   "source": []
  }
 ],
 "metadata": {
  "celltoolbar": "Slideshow",
  "kernelspec": {
   "display_name": "Python 2",
   "language": "python",
   "name": "python2"
  },
  "language_info": {
   "codemirror_mode": {
    "name": "ipython",
    "version": 2
   },
   "file_extension": ".py",
   "mimetype": "text/x-python",
   "name": "python",
   "nbconvert_exporter": "python",
   "pygments_lexer": "ipython2",
   "version": "2.7.12"
  }
 },
 "nbformat": 4,
 "nbformat_minor": 0
}
