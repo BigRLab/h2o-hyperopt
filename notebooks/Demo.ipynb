{
 "cells": [
  {
   "cell_type": "code",
   "execution_count": null,
   "metadata": {
    "collapsed": false,
    "slideshow": {
     "slide_type": "slide"
    }
   },
   "outputs": [],
   "source": [
    "%%capture\n",
    "import h2o\n",
    "import h2ohyperopt\n",
    "h2o.init()"
   ]
  },
  {
   "cell_type": "markdown",
   "metadata": {
    "slideshow": {
     "slide_type": "slide"
    }
   },
   "source": [
    "### Data Processing\n",
    "The test dataset used for demonstrating the capabilities of H2OHyperopt is the titanic dataset. The function ```data()``` is used to preprocess the dataset."
   ]
  },
  {
   "cell_type": "code",
   "execution_count": null,
   "metadata": {
    "collapsed": true,
    "slideshow": {
     "slide_type": "skip"
    }
   },
   "outputs": [],
   "source": [
    "def data():\n",
    "    \"\"\"\n",
    "    Function to process the example titanic dataset.\n",
    " \n",
    " Train-Valid-Test split is 60%, 20% and 20% respectively.\n",
    "    Output\n",
    "    ---------------------\n",
    "    trainFr: Training H2OFrame.\n",
    "    testFr: Test H2OFrame.\n",
    "    validFr: Validation H2OFrame.\n",
    "    predictors: List of predictor columns for the Training frame.\n",
    "    response: String defining the response column for Training frame.\n",
    "    \"\"\"\n",
    "    titanic_df = h2o.import_file(path=\"https://s3.amazonaws.com/h2o-public-test-data/smalldata/gbm_test/titanic.csv\")\n",
    "    columns_to_be_used = ['pclass', 'age', 'sex', 'sibsp', 'parch', 'ticket',\n",
    "                          'embarked', 'fare', 'survived']\n",
    "    columns_to_factorize = ['pclass', 'sex', 'sibsp', 'embarked', 'survived']\n",
    "    # Factorizing the columns in the columns_to_factorize list\n",
    "    for col in columns_to_factorize:\n",
    "        titanic_df[col] = titanic_df[col].asfactor()\n",
    "    # Selecting only the columns we need\n",
    "    titanic_frame = titanic_df[columns_to_be_used]\n",
    "    trainFr, testFr, validFr = titanic_frame.split_frame([0.6, 0.2],\n",
    "                                                         seed=1234)\n",
    "    predictors = trainFr.names[:]\n",
    "    # Removing the response column from the list of predictors\n",
    "    predictors.remove('survived')\n",
    "    response = 'survived'\n",
    "    return trainFr, testFr, validFr, predictors, response"
   ]
  },
  {
   "cell_type": "code",
   "execution_count": null,
   "metadata": {
    "collapsed": false,
    "slideshow": {
     "slide_type": "fragment"
    }
   },
   "outputs": [],
   "source": [
    "trainFr, testFr, validFr, predictors, response = data()"
   ]
  },
  {
   "cell_type": "markdown",
   "metadata": {
    "slideshow": {
     "slide_type": "slide"
    }
   },
   "source": [
    "### Mutiple Model Type Based Optimization\n",
    "Let us demonstrate the ModelDocker. Since the problem is a binary classification problem, we specify the metric to AUC. Docking three types of models - GBM's, GLM's and DLE's,"
   ]
  },
  {
   "cell_type": "code",
   "execution_count": null,
   "metadata": {
    "collapsed": true,
    "slideshow": {
     "slide_type": "subslide"
    }
   },
   "outputs": [],
   "source": [
    "model_gbm = h2ohyperopt.GBMOptimizer(metric='auc')\n",
    "# To use the default search space\n",
    "# model_gbm.select_optimization_parameters(\"Default\")\n",
    "# To use a combination of Default parameters and the customized parameters.\n",
    "model_gbm.select_optimization_parameters({'col_sample_rate': 'Default',\n",
    "                                          'ntrees': 200,\n",
    "                                          'learn_rate': ('uniform',(0.05, 0.2)),\n",
    "                                          'nfolds': 7})"
   ]
  },
  {
   "cell_type": "code",
   "execution_count": null,
   "metadata": {
    "collapsed": true,
    "slideshow": {
     "slide_type": "subslide"
    }
   },
   "outputs": [],
   "source": [
    "model_dle = h2ohyperopt.DLEOptimizer(metric='auc')\n",
    "# Selecting parameters to optimize on\n",
    "model_dle.select_optimization_parameters({'epsilon': 'Default',\n",
    "                                          'adaptive_rate': True,                                           \n",
    "                                          'hidden': ('choice', [[10, 20], [30, 40]]),\n",
    "                                          'nfolds':7})"
   ]
  },
  {
   "cell_type": "code",
   "execution_count": null,
   "metadata": {
    "collapsed": true,
    "slideshow": {
     "slide_type": "subslide"
    }
   },
   "outputs": [],
   "source": [
    "model_glm = h2ohyperopt.GLMOptimizer(metric='auc', problemType='Classification')\n",
    "# Selecting default parameters to optimize on\n",
    "model_glm.select_optimization_parameters('Default')"
   ]
  },
  {
   "cell_type": "markdown",
   "metadata": {
    "slideshow": {
     "slide_type": "slide"
    }
   },
   "source": [
    "### Starting the Optimization\n",
    "The optimization is started using the function ```start_optimization```. It is necessary to provide a validation frame so that the optimization algorithm can evaluate the model."
   ]
  },
  {
   "cell_type": "code",
   "execution_count": null,
   "metadata": {
    "collapsed": false,
    "scrolled": true,
    "slideshow": {
     "slide_type": "subslide"
    }
   },
   "outputs": [],
   "source": [
    "docker = h2ohyperopt.ModelDocker([model_dle, model_gbm, model_glm], 'auc')                                     \n",
    "docker.start_optimization(num_evals=20, trainingFr=trainFr,\n",
    "                          validationFr=validFr, response=response,                                              \n",
    "                          predictors=predictors)"
   ]
  },
  {
   "cell_type": "markdown",
   "metadata": {
    "slideshow": {
     "slide_type": "slide"
    }
   },
   "source": [
    "### Metrics available to User"
   ]
  },
  {
   "cell_type": "code",
   "execution_count": null,
   "metadata": {
    "collapsed": true,
    "slideshow": {
     "slide_type": "subslide"
    }
   },
   "outputs": [],
   "source": [
    "#To access the best model\n",
    "bestmodel = docker.best_model"
   ]
  },
  {
   "cell_type": "code",
   "execution_count": null,
   "metadata": {
    "collapsed": false,
    "slideshow": {
     "slide_type": "subslide"
    }
   },
   "outputs": [],
   "source": [
    "# To get the best model parameters\n",
    "docker.best_model_parameters()"
   ]
  },
  {
   "cell_type": "code",
   "execution_count": null,
   "metadata": {
    "collapsed": false,
    "slideshow": {
     "slide_type": "subslide"
    }
   },
   "outputs": [],
   "source": [
    "# To get the training and validation scores\n",
    "docker.best_model_scores()"
   ]
  },
  {
   "cell_type": "markdown",
   "metadata": {
    "slideshow": {
     "slide_type": "slide"
    }
   },
   "source": [
    "### Ensembling\n",
    "Three ensemble methods provided for the user.<br \\>\n",
    "1. Use the best n models from evaluated models\n",
    "2. Use the best n models from each model class\n",
    "3. Smart ensembling using correlation"
   ]
  },
  {
   "cell_type": "code",
   "execution_count": null,
   "metadata": {
    "collapsed": false,
    "slideshow": {
     "slide_type": "subslide"
    }
   },
   "outputs": [],
   "source": [
    "%%capture\n",
    "#To use smart ensembling\n",
    "docker.smart_ensembling()"
   ]
  },
  {
   "cell_type": "code",
   "execution_count": null,
   "metadata": {
    "collapsed": false,
    "slideshow": {
     "slide_type": "subslide"
    }
   },
   "outputs": [],
   "source": [
    "testDockerScore = docker.score_ensemble(testFr)"
   ]
  },
  {
   "cell_type": "code",
   "execution_count": null,
   "metadata": {
    "collapsed": false,
    "slideshow": {
     "slide_type": "subslide"
    }
   },
   "outputs": [],
   "source": [
    "testDockerScore"
   ]
  }
 ],
 "metadata": {
  "celltoolbar": "Slideshow",
  "kernelspec": {
   "display_name": "Python 2",
   "language": "python",
   "name": "python2"
  },
  "language_info": {
   "codemirror_mode": {
    "name": "ipython",
    "version": 2
   },
   "file_extension": ".py",
   "mimetype": "text/x-python",
   "name": "python",
   "nbconvert_exporter": "python",
   "pygments_lexer": "ipython2",
   "version": "2.7.12"
  }
 },
 "nbformat": 4,
 "nbformat_minor": 0
}
